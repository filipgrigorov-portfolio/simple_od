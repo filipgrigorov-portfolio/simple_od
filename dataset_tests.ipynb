{
 "cells": [
  {
   "cell_type": "code",
   "execution_count": 1,
   "id": "d953abd4-b528-4478-ada6-58d9d560764a",
   "metadata": {},
   "outputs": [],
   "source": [
    "import matplotlib.pyplot as plt\n",
    "import multiprocessing as mp\n",
    "\n",
    "from dataset import SimpleDataset\n",
    "from torch.utils.data import Dataset, DataLoader\n",
    "from torchvision import transforms\n",
    "\n",
    "%matplotlib inline"
   ]
  },
  {
   "cell_type": "code",
   "execution_count": 2,
   "id": "422cf2b3-7801-41d9-ab41-9c5194a18722",
   "metadata": {},
   "outputs": [
    {
     "name": "stdout",
     "output_type": "stream",
     "text": [
      "First 3 entries in labels.csv:\n",
      "\n",
      "  img_name  label  xmin  ymin  xmax  ymax\n",
      "0    0.png      0   104    20   143    58\n",
      "1    1.png      0    68   175   118   223\n",
      "2    2.png      0   163   173   218   239\n"
     ]
    }
   ],
   "source": [
    "# Tests\n",
    "transforms_ops = transforms.Compose([\n",
    "    transforms.ToTensor(),\n",
    "    transforms.Normalize((0.485, 0.456, 0.406), (0.229, 0.224, 0.225)),\n",
    "])\n",
    "dataset = SimpleDataset('data/banana-detection/bananas_train/', transforms_ops)\n",
    "dataloader = DataLoader(dataset, batch_size=1, shuffle=True, num_workers=int(0.2 * mp.cpu_count()), pin_memory=True)"
   ]
  },
  {
   "cell_type": "code",
   "execution_count": 3,
   "id": "9cd4cc1d-e0c7-4fe9-822e-8c4c71fdfb32",
   "metadata": {},
   "outputs": [
    {
     "name": "stdout",
     "output_type": "stream",
     "text": [
      "torch.Size([3, 256, 256])\n",
      "torch.Size([1])\n",
      "torch.Size([1, 4])\n"
     ]
    }
   ],
   "source": [
    "img, lbl, bboxes = dataset[10]\n",
    "print(img.size())\n",
    "print(lbl.size())\n",
    "print(bboxes.size())"
   ]
  },
  {
   "cell_type": "code",
   "execution_count": 4,
   "id": "b1c0962e-0474-4994-a9e1-98fd81dc3305",
   "metadata": {},
   "outputs": [
    {
     "name": "stdout",
     "output_type": "stream",
     "text": [
      "torch.Size([1, 3, 256, 256])\n",
      "tensor([[0]])\n",
      "tensor([[ 45.,  62.,  97., 135.]])\n"
     ]
    }
   ],
   "source": [
    "img, lbl, bboxes = next(iter(dataloader))\n",
    "print(img.size())\n",
    "print(lbl)\n",
    "print(bboxes[0])"
   ]
  },
  {
   "cell_type": "code",
   "execution_count": null,
   "id": "73daa8ee-469a-4360-9533-92885aac86a7",
   "metadata": {},
   "outputs": [],
   "source": []
  }
 ],
 "metadata": {
  "kernelspec": {
   "display_name": "Python 3",
   "language": "python",
   "name": "python3"
  },
  "language_info": {
   "codemirror_mode": {
    "name": "ipython",
    "version": 3
   },
   "file_extension": ".py",
   "mimetype": "text/x-python",
   "name": "python",
   "nbconvert_exporter": "python",
   "pygments_lexer": "ipython3",
   "version": "3.9.7"
  }
 },
 "nbformat": 4,
 "nbformat_minor": 5
}
