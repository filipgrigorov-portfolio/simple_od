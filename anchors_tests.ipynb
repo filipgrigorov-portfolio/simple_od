{
 "cells": [
  {
   "cell_type": "code",
   "execution_count": 1,
   "id": "4a444b2e-638e-4bb6-9676-dcf5a438bce2",
   "metadata": {},
   "outputs": [],
   "source": [
    "import matplotlib.pyplot as plt\n",
    "import matplotlib.patches as patches\n",
    "import numpy as np\n",
    "import torch\n",
    "\n",
    "np.set_printoptions(suppress=True)\n",
    "\n",
    "from anchors import generate_anchors_np, generate_anchors_torch, plot_anchor_boxes\n",
    "\n",
    "%matplotlib inline"
   ]
  },
  {
   "cell_type": "code",
   "execution_count": 2,
   "id": "eaa43ff9-b22b-409c-be7e-11d6ff454c0c",
   "metadata": {},
   "outputs": [
    {
     "name": "stdout",
     "output_type": "stream",
     "text": [
      "tensor([-0.0136, -0.0176,  0.5644,  0.7324])\n"
     ]
    }
   ],
   "source": [
    "feature_map = torch.zeros(size=(1, 3, 561, 728))\n",
    "scales = torch.tensor([0.75, 0.5, 0.25])\n",
    "ratios = torch.tensor([1, 2, 0.5])\n",
    "anchors = generate_anchors_torch(feature_map, scales, ratios)\n",
    "anchors = anchors.reshape(561, 728, 5, 4)\n",
    "print(anchors[200, 200, 0, :])"
   ]
  },
  {
   "cell_type": "code",
   "execution_count": 3,
   "id": "741a4a57-d4f7-4d60-b485-55f7a110340f",
   "metadata": {},
   "outputs": [
    {
     "data": {
      "image/png": "[encoded data removed]",
      "text/plain": [
       "<Figure size 432x288 with 1 Axes>"
      ]
     },
     "metadata": {
      "needs_background": "light"
     },
     "output_type": "display_data"
    }
   ],
   "source": [
    "combos = [\n",
    "    [ scales.numpy()[0], ratios.numpy()[0] ],\n",
    "    [ scales.numpy()[1], ratios.numpy()[0] ],\n",
    "    [ scales.numpy()[2], ratios.numpy()[0] ],\n",
    "    [ scales.numpy()[0], ratios.numpy()[1] ],\n",
    "    [ scales.numpy()[0], ratios.numpy()[2] ]\n",
    "]\n",
    "plot_anchor_boxes(feature_map.numpy(), anchors.numpy(), combos)"
   ]
  },
  {
   "cell_type": "code",
   "execution_count": 4,
   "id": "dfeca522-2bae-435c-b552-f1d9faf92160",
   "metadata": {},
   "outputs": [
    {
     "name": "stdout",
     "output_type": "stream",
     "text": [
      "(2042040, 4)\n",
      "[0.08276099 0.1073975  0.46806319 0.6073975 ]\n"
     ]
    }
   ],
   "source": [
    "feature_map_np = np.zeros(shape=(1, 3, 561, 728))\n",
    "scales = [0.75, 0.5, 0.25]\n",
    "ratios = [1, 2, 0.5]\n",
    "anchors_np = generate_anchors_np(feature_map_np, scales, ratios)\n",
    "anchors_np = anchors_np.reshape(561, 728, 5, 4)\n",
    "print(anchors_np[200, 200, 0, :])"
   ]
  },
  {
   "cell_type": "code",
   "execution_count": 5,
   "id": "ba377f00-6d25-4fd4-b4e0-f2e6c8a180c2",
   "metadata": {},
   "outputs": [
    {
     "data": {
      "image/png": "[encoded data removed]",
      "text/plain": [
       "<Figure size 432x288 with 1 Axes>"
      ]
     },
     "metadata": {
      "needs_background": "light"
     },
     "output_type": "display_data"
    }
   ],
   "source": [
    "anchors = anchors.reshape(561, 728, 5, 4)\n",
    "plot_anchor_boxes(feature_map_np, anchors_np, combos)\n",
    "plt.show()"
   ]
  },
  {
   "cell_type": "code",
   "execution_count": 38,
   "id": "9187701e-0f82-47c9-9ae1-ebb1cb74fc03",
   "metadata": {},
   "outputs": [
    {
     "name": "stdout",
     "output_type": "stream",
     "text": [
      "[[1 3]\n",
      " [1 3]\n",
      " [1 3]\n",
      " [2 4]\n",
      " [2 4]\n",
      " [2 4]]\n",
      "(2, 3, 2)\n",
      "[[[1 3]\n",
      "  [1 3]\n",
      "  [1 3]]\n",
      "\n",
      " [[2 4]\n",
      "  [2 4]\n",
      "  [2 4]]]\n"
     ]
    }
   ],
   "source": [
    "a = np.array([\n",
    "    [1, 2],\n",
    "    [3, 4]\n",
    "]).T\n",
    "\n",
    "b = a.repeat(3, axis=0)\n",
    "print(b)\n",
    "\n",
    "c = np.tile(a, 3)\n",
    "c = np.array([ c[idx].reshape(-1, 2) for idx in range(c.shape[0]) ])\n",
    "print(c.shape)\n",
    "print(c)"
   ]
  },
  {
   "cell_type": "code",
   "execution_count": 15,
   "id": "94575c4c-408c-4aaa-ad40-457f3e309a74",
   "metadata": {},
   "outputs": [
    {
     "name": "stdout",
     "output_type": "stream",
     "text": [
      "torch.Size([6, 2])\n",
      "[[1 3]\n",
      " [2 4]\n",
      " [1 3]\n",
      " [2 4]\n",
      " [1 3]\n",
      " [2 4]]\n",
      "tensor([[1, 3],\n",
      "        [1, 3],\n",
      "        [1, 3],\n",
      "        [2, 4],\n",
      "        [2, 4],\n",
      "        [2, 4]])\n"
     ]
    }
   ],
   "source": [
    "a = torch.tensor([\n",
    "    [1, 2],\n",
    "    [3, 4]\n",
    "]).T\n",
    "\n",
    "b = a.repeat(3, 1)\n",
    "print(b.size())\n",
    "print(b.numpy())\n",
    "\n",
    "c = a.repeat_interleave(3, 0)\n",
    "print(c)"
   ]
  },
  {
   "cell_type": "code",
   "execution_count": null,
   "id": "cd47254a-75d3-4197-904b-d73dd90bd715",
   "metadata": {},
   "outputs": [],
   "source": []
  }
 ],
 "metadata": {
  "kernelspec": {
   "display_name": "Python 3",
   "language": "python",
   "name": "python3"
  },
  "language_info": {
   "codemirror_mode": {
    "name": "ipython",
    "version": 3
   },
   "file_extension": ".py",
   "mimetype": "text/x-python",
   "name": "python",
   "nbconvert_exporter": "python",
   "pygments_lexer": "ipython3",
   "version": "3.9.7"
  }
 },
 "nbformat": 4,
 "nbformat_minor": 5
}
