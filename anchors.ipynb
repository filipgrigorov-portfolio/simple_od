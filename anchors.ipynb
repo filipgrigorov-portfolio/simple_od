{
 "cells": [
  {
   "cell_type": "code",
   "execution_count": 12,
   "id": "4a444b2e-638e-4bb6-9676-dcf5a438bce2",
   "metadata": {},
   "outputs": [],
   "source": [
    "import matplotlib.pyplot as plt\n",
    "import numpy as np\n",
    "\n",
    "np.set_printoptions(suppress=True)\n",
    "\n",
    "from anchors import SCALES, RATIOS\n",
    "\n",
    "%matplotlib inline"
   ]
  },
  {
   "cell_type": "code",
   "execution_count": 121,
   "id": "8b6226e3-00df-4320-ad9f-1bf0d5eec4ec",
   "metadata": {},
   "outputs": [],
   "source": [
    "def generate_anchors(feature_map, scales, ratios):\n",
    "    feature_map\n",
    "    batch_size, channels, grid_height, grid_width = feature_map.shape\n",
    "    half_grid_height = grid_height / 2\n",
    "    half_grid_width = grid_width / 2\n",
    "    num_ratios = ratios.shape[0]\n",
    "    num_scales = scales.shape[0]\n",
    "    num_anchors_per_pxl = num_scales + num_ratios - 1\n",
    "    \n",
    "    # Note: Generate the offsets in widths and heights, based on aspect ratios\n",
    "    # Note: vary the scales and keep the ratio fixed\n",
    "    varied_scales_w = [ scales[idx] * np.sqrt(ratios[0]) for idx in range(num_ratios) ]\n",
    "    # Note: vary the ratios, besides the used one, and keep the scales fixed\n",
    "    varied_ratios_w = [ scales[0] / np.sqrt(ratios[idx]) for idx in range(1, num_ratios) ]\n",
    "    w_offsets = np.concatenate([varied_scales_w, varied_ratios_w]) * grid_height / grid_width\n",
    "    \n",
    "    varied_scales_h = [ scales[idx] / np.sqrt(ratios[0]) for idx in range(num_ratios) ]\n",
    "    varied_ratios_h = [ scales[0] / np.sqrt(ratios[idx]) for idx in range(1, num_ratios) ]\n",
    "    h_offsets = np.concatenate([varied_scales_h, varied_ratios_h])\n",
    "    \n",
    "    print(w_offsets.shape)\n",
    "    print(h_offsets.shape)\n",
    "    \n",
    "    # Note: Generate the grid cell centers and flatten the grids\n",
    "    x_step = 1.0 / grid_width\n",
    "    y_step = 1.0 / grid_height\n",
    "    center_x = x_step * (np.arange(0, grid_width) + 0.5)\n",
    "    center_y = y_step * (np.arange(0, grid_height) + 0.5)\n",
    "    x_grid, y_grid = np.meshgrid(center_x, center_y, indexing='ij')\n",
    "    x_grid_flat, y_grid_flat = x_grid.flatten(), y_grid.flatten()\n",
    "    \n",
    "    # Note: Per grid cell, add the anchor boxes coordinates (cx +- w_at_scale and cy +- h_at_scale)\n",
    "    # Note: [x1i y1i x2i y2i, ..., ] -> repeat w*h times\n",
    "    stacked_offsets = np.vstack((-w_offsets, -h_offsets, w_offsets, h_offsets)).T\n",
    "    print(stacked_offsets.shape)\n",
    "    dims_offsets = stacked_offsets.repeat(grid_height * grid_width, axis=0) / 2\n",
    "    print(dims_offsets[:10])\n",
    "    \n",
    "    return anchors"
   ]
  },
  {
   "cell_type": "code",
   "execution_count": 122,
   "id": "dfeca522-2bae-435c-b552-f1d9faf92160",
   "metadata": {},
   "outputs": [
    {
     "name": "stdout",
     "output_type": "stream",
     "text": [
      "(5,)\n",
      "(5,)\n",
      "(5, 4)\n",
      "[[-0.28897665 -0.375       0.28897665  0.375     ]\n",
      " [-0.28897665 -0.375       0.28897665  0.375     ]\n",
      " [-0.28897665 -0.375       0.28897665  0.375     ]\n",
      " [-0.28897665 -0.375       0.28897665  0.375     ]\n",
      " [-0.28897665 -0.375       0.28897665  0.375     ]\n",
      " [-0.28897665 -0.375       0.28897665  0.375     ]\n",
      " [-0.28897665 -0.375       0.28897665  0.375     ]\n",
      " [-0.28897665 -0.375       0.28897665  0.375     ]\n",
      " [-0.28897665 -0.375       0.28897665  0.375     ]\n",
      " [-0.28897665 -0.375       0.28897665  0.375     ]]\n"
     ]
    },
    {
     "ename": "NameError",
     "evalue": "name 'anchors' is not defined",
     "output_type": "error",
     "traceback": [
      "\u001b[0;31m---------------------------------------------------------------------------\u001b[0m",
      "\u001b[0;31mNameError\u001b[0m                                 Traceback (most recent call last)",
      "Input \u001b[0;32mIn [122]\u001b[0m, in \u001b[0;36m<cell line: 4>\u001b[0;34m()\u001b[0m\n\u001b[1;32m      2\u001b[0m scales \u001b[38;5;241m=\u001b[39m np\u001b[38;5;241m.\u001b[39marray([\u001b[38;5;241m0.75\u001b[39m, \u001b[38;5;241m0.5\u001b[39m, \u001b[38;5;241m0.25\u001b[39m])\n\u001b[1;32m      3\u001b[0m ratios \u001b[38;5;241m=\u001b[39m np\u001b[38;5;241m.\u001b[39marray([\u001b[38;5;241m1\u001b[39m, \u001b[38;5;241m2\u001b[39m, \u001b[38;5;241m0.5\u001b[39m])\n\u001b[0;32m----> 4\u001b[0m \u001b[43mgenerate_anchors\u001b[49m\u001b[43m(\u001b[49m\u001b[43mfeature_map\u001b[49m\u001b[43m,\u001b[49m\u001b[43m \u001b[49m\u001b[43mscales\u001b[49m\u001b[43m,\u001b[49m\u001b[43m \u001b[49m\u001b[43mratios\u001b[49m\u001b[43m)\u001b[49m\n",
      "Input \u001b[0;32mIn [121]\u001b[0m, in \u001b[0;36mgenerate_anchors\u001b[0;34m(feature_map, scales, ratios)\u001b[0m\n\u001b[1;32m     36\u001b[0m dims_offsets \u001b[38;5;241m=\u001b[39m stacked_offsets\u001b[38;5;241m.\u001b[39mrepeat(grid_height \u001b[38;5;241m*\u001b[39m grid_width, axis\u001b[38;5;241m=\u001b[39m\u001b[38;5;241m0\u001b[39m) \u001b[38;5;241m/\u001b[39m \u001b[38;5;241m2\u001b[39m\n\u001b[1;32m     37\u001b[0m \u001b[38;5;28mprint\u001b[39m(dims_offsets[:\u001b[38;5;241m10\u001b[39m])\n\u001b[0;32m---> 39\u001b[0m \u001b[38;5;28;01mreturn\u001b[39;00m \u001b[43manchors\u001b[49m\n",
      "\u001b[0;31mNameError\u001b[0m: name 'anchors' is not defined"
     ]
    }
   ],
   "source": [
    "feature_map = np.zeros((1, 3, 561, 728))\n",
    "scales = np.array([0.75, 0.5, 0.25])\n",
    "ratios = np.array([1, 2, 0.5])\n",
    "generate_anchors(feature_map, scales, ratios)"
   ]
  },
  {
   "cell_type": "code",
   "execution_count": null,
   "id": "9187701e-0f82-47c9-9ae1-ebb1cb74fc03",
   "metadata": {},
   "outputs": [],
   "source": []
  }
 ],
 "metadata": {
  "kernelspec": {
   "display_name": "Python 3",
   "language": "python",
   "name": "python3"
  },
  "language_info": {
   "codemirror_mode": {
    "name": "ipython",
    "version": 3
   },
   "file_extension": ".py",
   "mimetype": "text/x-python",
   "name": "python",
   "nbconvert_exporter": "python",
   "pygments_lexer": "ipython3",
   "version": "3.9.7"
  }
 },
 "nbformat": 4,
 "nbformat_minor": 5
}
