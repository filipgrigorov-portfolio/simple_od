{
 "cells": [
  {
   "cell_type": "code",
   "execution_count": 129,
   "id": "4a444b2e-638e-4bb6-9676-dcf5a438bce2",
   "metadata": {},
   "outputs": [],
   "source": [
    "import matplotlib.pyplot as plt\n",
    "import numpy as np\n",
    "import torch\n",
    "\n",
    "np.set_printoptions(suppress=True)\n",
    "\n",
    "from anchors import SCALES, RATIOS\n",
    "\n",
    "%matplotlib inline"
   ]
  },
  {
   "cell_type": "code",
   "execution_count": 259,
   "id": "8b6226e3-00df-4320-ad9f-1bf0d5eec4ec",
   "metadata": {},
   "outputs": [],
   "source": [
    "def generate_anchors(feature_map, scales, ratios):\n",
    "    '''\n",
    "        Apply scales along with ratio to generate anchor x1, y1, x2, y2\n",
    "    '''\n",
    "    feature_map\n",
    "    batch_size, channels, grid_height, grid_width = feature_map.shape\n",
    "    half_grid_height = grid_height / 2\n",
    "    half_grid_width = grid_width / 2\n",
    "    num_ratios = ratios.shape[0]\n",
    "    num_scales = scales.shape[0]\n",
    "    num_anchors_per_pxl = num_scales + num_ratios - 1\n",
    "    \n",
    "    # Note: Generate the offsets in widths and heights, based on aspect ratios\n",
    "    # Note: vary the scales and keep the ratio fixed\n",
    "    varied_scales_w = [ scales[idx] * np.sqrt(ratios[0]) for idx in range(num_ratios) ]\n",
    "    # Note: vary the ratios, besides the used one, and keep the scales fixed\n",
    "    varied_ratios_w = [ scales[0] / np.sqrt(ratios[idx]) for idx in range(1, num_ratios) ]\n",
    "    w_offsets = np.concatenate([varied_scales_w, varied_ratios_w]) * grid_height / grid_width\n",
    "    \n",
    "    varied_scales_h = [ 0.5 * scales[idx] / np.sqrt(ratios[0]) for idx in range(num_ratios) ]\n",
    "    varied_ratios_h = [ 0.5 * scales[0] / np.sqrt(ratios[idx]) for idx in range(1, num_ratios) ]\n",
    "    h_offsets = np.concatenate([varied_scales_h, varied_ratios_h])\n",
    "    \n",
    "    # Note: Generate the grid cell centers and flatten the grids\n",
    "    x_step = 1.0 / grid_width\n",
    "    y_step = 1.0 / grid_height\n",
    "    center_x = x_step * (np.arange(0, grid_width) + 0.5)\n",
    "    center_y = y_step * (np.arange(0, grid_height) + 0.5)\n",
    "    x_grid, y_grid = np.meshgrid(center_x, center_y, indexing='ij')\n",
    "    x_grid_flat, y_grid_flat = x_grid.flatten(), y_grid.flatten()\n",
    "    \n",
    "    # Note: Per grid cell, add the anchor boxes coordinates (cx +- w_at_scale and cy +- h_at_scale)\n",
    "    # Note: [x1i y1i x2i y2i, ..., ] -> repeat w*h times\n",
    "    stacked_offsets = np.vstack((-w_offsets, -h_offsets, w_offsets, h_offsets)).T\n",
    "    dims_offsets = np.repeat(stacked_offsets, grid_height * grid_width, axis=0)\n",
    "    print(dims_offsets.shape)\n",
    "    \n",
    "    # Note: stack the offsets with the cx and cy pairs to create the tuple of x1, y1, x2, y2\n",
    "    dims_centers = np.vstack((x_grid_flat, y_grid_flat, x_grid_flat, y_grid_flat)).T\n",
    "    dims_centers = np.repeat(dims_centers, num_anchors_per_pxl, axis=0)\n",
    "    \n",
    "    return np.expand_dims(dims_centers + dims_offsets, axis=0)"
   ]
  },
  {
   "cell_type": "code",
   "execution_count": 260,
   "id": "dfeca522-2bae-435c-b552-f1d9faf92160",
   "metadata": {},
   "outputs": [
    {
     "name": "stdout",
     "output_type": "stream",
     "text": [
      "(2042040, 4)\n",
      "(1, 2042040, 4)\n"
     ]
    }
   ],
   "source": [
    "feature_map = np.zeros((1, 3, 561, 728))\n",
    "scales = np.array([0.75, 0.5, 0.25])\n",
    "ratios = np.array([1, 2, 0.5])\n",
    "anchors = generate_anchors(feature_map, scales, ratios)\n",
    "print(anchors.shape)"
   ]
  },
  {
   "cell_type": "code",
   "execution_count": null,
   "id": "ba377f00-6d25-4fd4-b4e0-f2e6c8a180c2",
   "metadata": {},
   "outputs": [],
   "source": [
    "def show_anchors():"
   ]
  },
  {
   "cell_type": "code",
   "execution_count": 214,
   "id": "9187701e-0f82-47c9-9ae1-ebb1cb74fc03",
   "metadata": {},
   "outputs": [
    {
     "name": "stdout",
     "output_type": "stream",
     "text": [
      "[[1 3]\n",
      " [1 3]\n",
      " [1 3]\n",
      " [2 4]\n",
      " [2 4]\n",
      " [2 4]]\n"
     ]
    }
   ],
   "source": [
    "a = np.array([\n",
    "    [1, 2],\n",
    "    [3, 4]\n",
    "]).T\n",
    "b = a.repeat(3, axis=0)\n",
    "print(b)"
   ]
  },
  {
   "cell_type": "code",
   "execution_count": 215,
   "id": "94575c4c-408c-4aaa-ad40-457f3e309a74",
   "metadata": {},
   "outputs": [
    {
     "name": "stdout",
     "output_type": "stream",
     "text": [
      "[[1 3]\n",
      " [2 4]\n",
      " [1 3]\n",
      " [2 4]\n",
      " [1 3]\n",
      " [2 4]]\n"
     ]
    }
   ],
   "source": [
    "a = torch.tensor([\n",
    "    [1, 2],\n",
    "    [3, 4]\n",
    "]).T\n",
    "b = a.repeat(3, 1)\n",
    "print(b.numpy())"
   ]
  },
  {
   "cell_type": "code",
   "execution_count": null,
   "id": "cd47254a-75d3-4197-904b-d73dd90bd715",
   "metadata": {},
   "outputs": [],
   "source": []
  },
  {
   "cell_type": "code",
   "execution_count": null,
   "id": "19dc60da-4b9e-4bd6-bd08-daa2d4572f7f",
   "metadata": {},
   "outputs": [],
   "source": []
  }
 ],
 "metadata": {
  "kernelspec": {
   "display_name": "Python 3",
   "language": "python",
   "name": "python3"
  },
  "language_info": {
   "codemirror_mode": {
    "name": "ipython",
    "version": 3
   },
   "file_extension": ".py",
   "mimetype": "text/x-python",
   "name": "python",
   "nbconvert_exporter": "python",
   "pygments_lexer": "ipython3",
   "version": "3.9.7"
  }
 },
 "nbformat": 4,
 "nbformat_minor": 5
}
