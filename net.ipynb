{
 "cells": [
  {
   "cell_type": "code",
   "execution_count": 2,
   "id": "8766149d-8ca4-4c93-82cf-e1b4e4bc93e2",
   "metadata": {},
   "outputs": [
    {
     "data": {
      "text/plain": [
       "<torch._C.Generator at 0x7f438031cc10>"
      ]
     },
     "execution_count": 2,
     "metadata": {},
     "output_type": "execute_result"
    }
   ],
   "source": [
    "import numpy as np\n",
    "import torch\n",
    "import torch.nn as nn\n",
    "\n",
    "from anchors import generate_anchors, SCALES, RATIOS\n",
    "from dataset import SimpleDataset\n",
    "\n",
    "torch.manual_seed(9)"
   ]
  },
  {
   "cell_type": "code",
   "execution_count": null,
   "id": "4b616043-2a92-4d5c-a0b1-16ff3908794f",
   "metadata": {},
   "outputs": [],
   "source": [
    "class Conv2d(nn.Module):\n",
    "    def __init__(self, in_channels, out_channels, kernel_size, stride=1, padding=0):\n",
    "        self.conv = nn.Sequential(\n",
    "            nn.Conv2d(in_channels=in_channels, out_channels=out_channels, kernel_size=kernel_size, stride=stride, padding=padding, bias=False),\n",
    "            nn.BatchNorm2d(num_channels=out_channels),\n",
    "            nn.LeakyReLU()\n",
    "        )\n",
    "        \n",
    "    def forward(self, x):\n",
    "        return self.conv(x)\n",
    "    \n",
    "class BoxPredictor(nn.Module):\n",
    "    def __init__(self, in_channels, num_anchors):\n",
    "        # Note: output bboxes = number of anchor boxes * 4 coordinates (x1_offset, y1_offset, x2_offset, y2_offset)\n",
    "        self.box_predictor = \\\n",
    "            nn.Conv2d(in_channels=in_channels, out_channels=num_anchors * 4, kernel_size=3, stride=1, padding=1)\n",
    "        \n",
    "    def forward(self, x):\n",
    "        return self.box_predictor(x)\n",
    "    \n",
    "class ClassPredictor(nn.Module):\n",
    "    def __init__(self, in_channels, num_anchors, num_classes):\n",
    "        # Note: output bboxes = number of anchor boxes * (num_classes + 1)\n",
    "        self.box_predictor = \\\n",
    "            nn.Conv2d(in_channels=in_channels, out_channels=num_anchors * (num_classes + 1), kernel_size=3, stride=1, padding=1)\n",
    "        \n",
    "    def forward(self, x):\n",
    "        return self.box_predictor(x)\n",
    "\n",
    "class SimpleSSD(nn.Module):\n",
    "    def __init__(self, num_anchors, num_classes):\n",
    "        self.backbone = nn.Sequential(\n",
    "            # [3, 256, 256]\n",
    "            Conv2d(3, 16, 3, 1, 1),\n",
    "            nn.MaxPool2d(2, 2),\n",
    "            \n",
    "            # [16, 128, 128]\n",
    "            Conv2d(16, 32, 3, 1, 1),\n",
    "            nn.MaxPool2d(2, 2),\n",
    "            \n",
    "            # [32, 64, 64]\n",
    "            Conv2d(32, 64, 3, 1, 1),\n",
    "            nn.MaxPool2d(2, 2)\n",
    "        )\n",
    "        self.backbone_class_predictor = ClassPredictor(64, num_anchors, num_classes)\n",
    "        self.backbone_box_predictor = BoxPredictor(64, num_anchors)\n",
    "        \n",
    "        self.multiscale_block1 = nn.Sequential(\n",
    "            # [64, 32, 32]\n",
    "            Conv2d(64, 128, 3, 1, 1),\n",
    "            nn.MaxPool2d(2, 2)\n",
    "        )\n",
    "        self.ms1_class_predictor = ClassPredictor(128, num_anchors, num_classes)\n",
    "        self.ms1_box_predictor = BoxPredictor(128, num_anchors)\n",
    "        \n",
    "        self.multiscale_block2 = nn.Sequential(\n",
    "            # [128, 12, 12]\n",
    "            Conv2d(128, 128, 3, 1, 1),\n",
    "            nn.MaxPool2d(2, 2)\n",
    "        )\n",
    "        self.ms2_class_predictor = ClassPredictor(128, num_anchors, num_classes)\n",
    "        self.ms2_box_predictor = BoxPredictor(128, num_anchors)\n",
    "        \n",
    "        # [128, 12, 12]\n",
    "        self.multiscale_block3 = nn.AdaptiveMaxPool2d((1, 1))\n",
    "        self.ms3_class_predictor = ClassPredictor(128, num_anchors, num_classes)\n",
    "        self.ms3_box_predictor = BoxPredictor(128, num_anchors)\n",
    "        \n",
    "        # [128, 1, 1]\n",
    "    \n",
    "    def forward(self, x):\n",
    "        anchors = []; class_preds = []; box_pred = []\n",
    "        \n",
    "        backbone_out = self.backbone(x)\n",
    "        backbone_anchors = generate_anchors(backbone_out, SCALES, RATIOS)\n",
    "        backbone_class_predictions = self.backbone_class_predictor(backbone_out)\n",
    "        backbone_box_predictions = self.backbone_box_predictor(backbone_out)\n",
    "        anchors.append(backbone_anchors)\n",
    "        class_preds.append(backbone_class_predictions)\n",
    "        box_preds.append(backbone_box_predictions)\n",
    "        \n",
    "        ms1_out = self.multiscale_block1(backbone_out)\n",
    "        \n",
    "        ms2_out = self.multiscale_block2(ms1_out)\n",
    "        \n",
    "        ms3_out = self.multiscale_block3(ms2_out)\n",
    "        \n",
    "        # TODO: concat these arrays\n",
    "        return anchors, class_preds, box_preds"
   ]
  },
  {
   "cell_type": "code",
   "execution_count": null,
   "id": "387f5984-8fe8-410c-9915-15b88108e39a",
   "metadata": {},
   "outputs": [],
   "source": [
    "num_anchors = len(SCALES) + len(RATIOS) - 1"
   ]
  },
  {
   "cell_type": "code",
   "execution_count": null,
   "id": "8808648c-49c1-4bd5-8669-9b56069d4fd9",
   "metadata": {},
   "outputs": [],
   "source": []
  }
 ],
 "metadata": {
  "kernelspec": {
   "display_name": "Python 3",
   "language": "python",
   "name": "python3"
  },
  "language_info": {
   "codemirror_mode": {
    "name": "ipython",
    "version": 3
   },
   "file_extension": ".py",
   "mimetype": "text/x-python",
   "name": "python",
   "nbconvert_exporter": "python",
   "pygments_lexer": "ipython3",
   "version": "3.9.7"
  }
 },
 "nbformat": 4,
 "nbformat_minor": 5
}
